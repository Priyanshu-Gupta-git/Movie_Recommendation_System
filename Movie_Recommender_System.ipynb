{
 "cells": [
  {
   "cell_type": "code",
   "execution_count": 10,
   "id": "2ef53cc8-0d91-4ffe-a741-4213aab53bf1",
   "metadata": {},
   "outputs": [
    {
     "name": "stderr",
     "output_type": "stream",
     "text": [
      "C:\\Users\\dell\\AppData\\Local\\Temp\\ipykernel_13240\\3709436801.py:56: SettingWithCopyWarning: \n",
      "A value is trying to be set on a copy of a slice from a DataFrame.\n",
      "Try using .loc[row_indexer,col_indexer] = value instead\n",
      "\n",
      "See the caveats in the documentation: https://pandas.pydata.org/pandas-docs/stable/user_guide/indexing.html#returning-a-view-versus-a-copy\n",
      "  new_df['tags']=new_df['tags'].apply(lambda x: \" \".join(x))\n"
     ]
    },
    {
     "name": "stdout",
     "output_type": "stream",
     "text": [
      "The Dark Knight\n",
      "The Dark Knight Rises\n",
      "Batman\n",
      "Batman & Robin\n",
      "Batman\n"
     ]
    },
    {
     "name": "stderr",
     "output_type": "stream",
     "text": [
      "C:\\Users\\dell\\AppData\\Local\\Temp\\ipykernel_13240\\3709436801.py:92: FutureWarning: \n",
      "\n",
      "Passing `palette` without assigning `hue` is deprecated and will be removed in v0.14.0. Assign the `y` variable to `hue` and set `legend=False` for the same effect.\n",
      "\n",
      "  sns.barplot(x=scores, y=recommended_movies, palette='viridis')\n"
     ]
    },
    {
     "data": {
      "image/png": "[encoded data removed]",
      "text/plain": [
       "<Figure size 1000x500 with 1 Axes>"
      ]
     },
     "metadata": {},
     "output_type": "display_data"
    }
   ],
   "source": [
    "import pandas as pd\n",
    "import sklearn\n",
    "from sklearn.feature_extraction.text import CountVectorizer\n",
    "from sklearn.metrics.pairwise import cosine_similarity\n",
    "from nltk.stem.porter import PorterStemmer\n",
    "import ast\n",
    "import nltk\n",
    "import matplotlib.pyplot as plt\n",
    "import seaborn as sns\n",
    "movies= pd.read_csv('tmdb_5000_movies.csv')\n",
    "credits=pd.read_csv('tmdb_5000_credits.csv')\n",
    "movies=movies.merge(credits,on='title')\n",
    "movies=movies[['movie_id','title','overview','genres','keywords','cast','crew']]\n",
    "movies.isnull().sum()\n",
    "movies.dropna(inplace=True)\n",
    "#check for dublicate raws\n",
    "\n",
    "movies.duplicated().sum()\n",
    "def convert(obj):\n",
    "    l=[]\n",
    "    for i in  ast.literal_eval(obj):\n",
    "        l.append(i['name'])\n",
    "    return l\n",
    "movies['genres']=movies['genres'].apply(convert)\n",
    "movies['keywords']=movies['keywords'].apply(convert)\n",
    "#Convert JSON Strings to Python Objects\n",
    "def convert3(obj):\n",
    "    l=[]\n",
    "    counter=0\n",
    "    for i in  ast.literal_eval(obj):\n",
    "        if counter!=3:\n",
    "            l.append(i['name'])\n",
    "            counter+=1\n",
    "        else:\n",
    "            break\n",
    "    return l\n",
    "movies['cast']=movies['cast'].apply(convert3)\n",
    "def fetch_director(obj):\n",
    "    l=[]\n",
    "    for i in  ast.literal_eval(obj):\n",
    "        if i['job']=='Director':\n",
    "            l.append(i['name'])\n",
    "            break\n",
    "    return l\n",
    "movies['crew']=movies['crew'].apply(fetch_director)\n",
    "movies['overview']=movies['overview'].apply(lambda x:x.split())\n",
    "#strip white space for all column name\n",
    "movies['genres']=movies['genres'].apply(lambda x:[i.replace(\" \",\"\") for i in x])\n",
    "movies['keywords']=movies['keywords'].apply(lambda x:[i.replace(\" \",\"\") for i in x])\n",
    "movies['cast']=movies['cast'].apply(lambda x:[i.replace(\" \",\"\") for i in x])\n",
    "movies['crew']=movies['crew'].apply(lambda x:[i.replace(\" \",\"\") for i in x])\n",
    "movies['overview']=movies['overview'].apply(lambda x:[i.replace(\" \",\"\") for i  in  x])\n",
    "#Create a 'tags' Column\n",
    "movies['tags']=movies['genres']+movies['keywords']+movies['cast']+movies['crew']+movies['overview']\n",
    "new_df=movies[['movie_id','title','tags']]\n",
    "new_df['tags']=new_df['tags'].apply(lambda x: \" \".join(x))\n",
    "cv = CountVectorizer(max_features=5000,stop_words='english')\n",
    "vectors=cv.fit_transform(new_df['tags']).toarray()\n",
    "cv.get_feature_names_out()\n",
    "ps=PorterStemmer()\n",
    "def stem(text):\n",
    "    y=[]\n",
    "    for i in text .split():\n",
    "        y.append(ps.stem(i))\n",
    "    return \" \".join(y)\n",
    "similarity=cosine_similarity(vectors)\n",
    "sorted(list(enumerate(similarity[0])),reverse=True,key=lambda c:c[1])[1:6]\n",
    "def recommend(movie):\n",
    "    movie_index=new_df[new_df['title']==movie].index[0]\n",
    "    distances = similarity[movie_index]\n",
    "    movies_list=sorted(list(enumerate(distances)),reverse=True,key=lambda c:c[1])[1:6]\n",
    "    for i in movies_list:\n",
    "        # print(i)\n",
    "        print(new_df.iloc[i[0]].title)\n",
    "     \n",
    "recommend('Batman Begins')\n",
    "def recommend(movie):\n",
    "    movie_index = new_df[new_df['title'] == movie].index[0]\n",
    "    distances = similarity[movie_index]\n",
    "    movies_list = sorted(list(enumerate(distances)), reverse=True, key=lambda c: c[1])[1:6]\n",
    "    recommended_movies = []\n",
    "    scores = []\n",
    "    for i in movies_list:\n",
    "        recommended_movies.append(new_df.iloc[i[0]].title)\n",
    "        scores.append(i[1])\n",
    "    return recommended_movies, scores\n",
    "\n",
    "recommended_movies, scores = recommend('Batman Begins')\n",
    "\n",
    "\n",
    "plt.figure(figsize=(10, 5))\n",
    "sns.barplot(x=scores, y=recommended_movies, palette='viridis')\n",
    "plt.xlabel('Similarity Score')\n",
    "plt.title('Top 5 Recommended Movies for \"Batman Begins\"')\n",
    "plt.show()\n",
    "\n",
    "\n",
    "\n",
    "   "
   ]
  },
  {
   "cell_type": "code",
   "execution_count": null,
   "id": "c8b3bb7a-d653-43ea-a7a5-ae25ee7087ba",
   "metadata": {},
   "outputs": [],
   "source": []
  },
  {
   "cell_type": "code",
   "execution_count": null,
   "id": "42493dab-412b-45cf-afc0-7a88c87fb6b3",
   "metadata": {},
   "outputs": [],
   "source": []
  }
 ],
 "metadata": {
  "kernelspec": {
   "display_name": "Python 3 (ipykernel)",
   "language": "python",
   "name": "python3"
  },
  "language_info": {
   "codemirror_mode": {
    "name": "ipython",
    "version": 3
   },
   "file_extension": ".py",
   "mimetype": "text/x-python",
   "name": "python",
   "nbconvert_exporter": "python",
   "pygments_lexer": "ipython3",
   "version": "3.12.4"
  }
 },
 "nbformat": 4,
 "nbformat_minor": 5
}
